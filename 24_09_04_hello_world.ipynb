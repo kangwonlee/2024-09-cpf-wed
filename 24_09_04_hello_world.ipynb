{
  "nbformat": 4,
  "nbformat_minor": 0,
  "metadata": {
    "colab": {
      "private_outputs": true,
      "provenance": []
    },
    "kernelspec": {
      "name": "python3",
      "display_name": "Python 3"
    },
    "language_info": {
      "name": "python"
    }
  },
  "cells": [
    {
      "cell_type": "code",
      "execution_count": null,
      "metadata": {
        "id": "Wei9y01ZRO3D"
      },
      "outputs": [],
      "source": [
        "print(\"Hello World!!\")"
      ]
    },
    {
      "cell_type": "code",
      "source": [
        "print(\"Hello Python\")\n"
      ],
      "metadata": {
        "id": "xmWMLWj1RfkK"
      },
      "execution_count": null,
      "outputs": []
    },
    {
      "cell_type": "code",
      "source": [
        "import pylab as py\n",
        "\n",
        "x_deg = py.arange(-180, 180+1)\n",
        "x_rad = py.deg2rad(x_deg)\n",
        "y = py.sin(x_rad)\n",
        "\n",
        "py.plot(x_deg, y)\n",
        "\n",
        "py.xlabel('x(deg)')\n",
        "py.ylabel('sin(x)')\n",
        "py.grid(True)\n"
      ],
      "metadata": {
        "id": "XCbxB6mFSvyQ"
      },
      "execution_count": null,
      "outputs": []
    },
    {
      "cell_type": "code",
      "source": [
        "print(\"Hello Python\")\n",
        "print(\"우리 모두 파이썬과 친하게 지내 봅시다\")\n",
        "print(\"파이썬으로 지루한 작업을 자동화 해 봅시다\")"
      ],
      "metadata": {
        "id": "ZSHex9wreRG0"
      },
      "execution_count": null,
      "outputs": []
    }
  ]
}